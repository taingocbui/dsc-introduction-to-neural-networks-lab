{
  "cells": [
    {
      "cell_type": "markdown",
      "metadata": {
        "id": "PUuCcPflyvHX"
      },
      "source": [
        "# Introduction to Neural Networks - Lab"
      ]
    },
    {
      "cell_type": "markdown",
      "metadata": {
        "id": "0wVdQaXkyvHZ"
      },
      "source": [
        "## Introduction"
      ]
    },
    {
      "cell_type": "markdown",
      "metadata": {
        "id": "3InqFh49yvHZ"
      },
      "source": [
        "In this lab, you'll practice everything you have learned during the lecture. We know there is quite a bit of math involved, but don't worry! Using Python and trying things out yourself will actually make a lot of things much more clear! Before we start, let's load some necessary libraries so we can import our data."
      ]
    },
    {
      "cell_type": "markdown",
      "metadata": {
        "id": "Dao53OT4yvHa"
      },
      "source": [
        "## Objectives\n",
        "\n",
        "In this lab you will:\n",
        "\n",
        "- Import images using Keras\n",
        "- Build a \"shallow\" neural network from scratch"
      ]
    },
    {
      "cell_type": "markdown",
      "metadata": {
        "id": "y9EfnQ2IyvHa"
      },
      "source": [
        "As usual, we'll start by importing the necessary packages that we'll use in this lab."
      ]
    },
    {
      "cell_type": "code",
      "execution_count": 2,
      "metadata": {
        "id": "LNg6HwPJyvHb"
      },
      "outputs": [],
      "source": [
        "from tensorflow.keras.preprocessing.image import ImageDataGenerator\n",
        "from tensorflow.keras.utils import array_to_img, img_to_array, load_img\n",
        "import numpy as np\n",
        "import os"
      ]
    },
    {
      "cell_type": "markdown",
      "metadata": {
        "id": "1wwzR8KUyvHc"
      },
      "source": [
        "In this lab, you'll import a bunch of images to correctly classify them as \"Santa\", meaning that Santa is present on the image or \"not Santa\" meaning that something else is in the images.\n",
        "\n",
        "If you have a look at this GitHub repository, you'll notice that the images are simply stored in `.jpeg` files and stored under the folder `'/data'`. Luckily, `keras` has great modules that make importing images stored in this type of format easy. We'll do this for you in the cell below.\n",
        "\n",
        "The images in the `'/data'` folder have various resolutions. We will reshape them so they are all 64 x 64 pixels.\n",
        "\n",
        "Run the code as you see it below."
      ]
    },
    {
      "cell_type": "code",
      "execution_count": null,
      "metadata": {
        "id": "hoifXIq2yvHd"
      },
      "outputs": [],
      "source": [
        "# Directory path\n",
        "train_data_dir = 'data/train'\n",
        "test_data_dir = 'data/validation'\n",
        "\n",
        "# Get all the data in the directory data/validation (132 images), and reshape them\n",
        "test_generator = ImageDataGenerator().flow_from_directory(\n",
        "        test_data_dir,\n",
        "        target_size=(64, 64), batch_size=132)\n",
        "\n",
        "# Get all the data in the directory data/train (790 images), and reshape them\n",
        "train_generator = ImageDataGenerator().flow_from_directory(\n",
        "        train_data_dir,\n",
        "        target_size=(64, 64), batch_size=790)\n",
        "\n",
        "# Create the datasets\n",
        "train_images, train_labels = next(train_generator)\n",
        "test_images, test_labels = next(test_generator)"
      ]
    },
    {
      "cell_type": "markdown",
      "metadata": {
        "id": "Ls7IhxoMyvHl"
      },
      "source": [
        "## Inspect and prepare data"
      ]
    },
    {
      "cell_type": "markdown",
      "metadata": {
        "id": "mfPsDtGTyvHm"
      },
      "source": [
        "## Look at some images"
      ]
    },
    {
      "cell_type": "markdown",
      "metadata": {
        "id": "SJA91T2SyvHm"
      },
      "source": [
        "Note that we have four numpy arrays now: `train_images`, `train_labels`, `test_images`, and `test_labels`. We'll need to make some changes to the data in order to work with them, but before we do anything else, let's have a look at some of the images we loaded in `train_images`. You can use `array_to_img()` from `keras.processing.image` on any image (select any `train_images` using `train_images[index]` to look at it)."
      ]
    },
    {
      "cell_type": "code",
      "execution_count": null,
      "metadata": {
        "id": "Di1c-fmLyvHm"
      },
      "outputs": [],
      "source": [
        "# Preview an image"
      ]
    },
    {
      "cell_type": "code",
      "execution_count": null,
      "metadata": {
        "id": "mN_lDgMbyvHn"
      },
      "outputs": [],
      "source": [
        "# Preview another image"
      ]
    },
    {
      "cell_type": "markdown",
      "metadata": {
        "id": "p9CLSPfsyvHn"
      },
      "source": [
        "## The shape of data"
      ]
    },
    {
      "cell_type": "markdown",
      "metadata": {
        "id": "15LgMAUnyvHn"
      },
      "source": [
        "Now, let's use `np.shape()` to look at what these numpy arrays look like."
      ]
    },
    {
      "cell_type": "code",
      "execution_count": null,
      "metadata": {
        "id": "YEf7eigIyvHn"
      },
      "outputs": [],
      "source": [
        "# Preview the shape of both the images and labels for both the train and test sets (4 objects total)"
      ]
    },
    {
      "cell_type": "markdown",
      "metadata": {
        "id": "w0JTZKWWyvHn"
      },
      "source": [
        "##  `train_images` and `test_images`"
      ]
    },
    {
      "cell_type": "markdown",
      "metadata": {
        "id": "BIYi14zVyvHo"
      },
      "source": [
        "Let's start with `train_images`. From the lesson, you might remember that the expected input shape is $n$ x $l$. How does this relate to what we see here?\n",
        "\n",
        "$l$ denotes the number of observations, or the number of images. The number of images in `train_images` is 790. $n$ is the number of elements in the feature vector for each image, or put differently, $n$ is the number of rows when unrowing the 3 (RGB) 64 x 64 matrices.\n",
        "\n",
        "So, translated to this example, we need to transform our `(790, 64, 64, 3)` matrix to a `(64*64*3, 790)` matrix!\n",
        "\n",
        "\n",
        "> Hint: You should use both the `.reshape()` method and then transpose the result using `.T`."
      ]
    },
    {
      "cell_type": "code",
      "execution_count": null,
      "metadata": {
        "id": "kAZGZRbeyvHo"
      },
      "outputs": [],
      "source": [
        "# Reshape the train images\n",
        "train_img_unrow = None"
      ]
    },
    {
      "cell_type": "markdown",
      "metadata": {
        "id": "gqdNnq4UyvHo"
      },
      "source": [
        "Verify that the shape of the the newly created `train_img_unrow` is correct."
      ]
    },
    {
      "cell_type": "code",
      "execution_count": null,
      "metadata": {
        "id": "PUSKBIjcyvHo"
      },
      "outputs": [],
      "source": [
        "# Preview the shape of train_img_unrow"
      ]
    },
    {
      "cell_type": "markdown",
      "metadata": {
        "id": "37dFzqosyvHp"
      },
      "source": [
        "Next, let's transform `test_images` in a similar way. Note that the dimensions are different here! Where we needed to have a matrix shape of $n$ x $l$ for `train_images`; for `test_images`, we need to get to a shape of $n$ x $m$. What is $m$ here?"
      ]
    },
    {
      "cell_type": "code",
      "execution_count": null,
      "metadata": {
        "id": "FTmWcOj7yvHp"
      },
      "outputs": [],
      "source": [
        "# Define appropriate m\n",
        "m = None\n",
        "test_img_unrow = test_images.reshape(m, -1).T"
      ]
    },
    {
      "cell_type": "code",
      "execution_count": null,
      "metadata": {
        "id": "Z4i9MbtgyvHp"
      },
      "outputs": [],
      "source": [
        "# Preview the shape of test_img_unrow\n"
      ]
    },
    {
      "cell_type": "markdown",
      "metadata": {
        "id": "2qd1AmakyvHp"
      },
      "source": [
        "## `train_labels` and `test_labels`"
      ]
    },
    {
      "cell_type": "markdown",
      "metadata": {
        "id": "V1ov2HpPyvHp"
      },
      "source": [
        "Earlier, you noticed that `train_labels` and `test_labels` have shapes of $(790, 2)$ and $(132, 2)$ respectively. In the lesson, we expected $1$ x $l$ and $1$ x $m$.\n",
        "\n",
        "Let's have a closer look."
      ]
    },
    {
      "cell_type": "code",
      "execution_count": null,
      "metadata": {
        "id": "Qp6y5vzmyvHq"
      },
      "outputs": [],
      "source": [
        "# Run this cell; no need to edit\n",
        "train_labels"
      ]
    },
    {
      "cell_type": "markdown",
      "metadata": {
        "id": "63MgWpuiyvHq"
      },
      "source": [
        "Looking at this, it's clear that for each observation (or image), `train_labels` doesn't simply have an output of 1 or 0, but a pair - either `[0, 1]` or `[1, 0]`.\n",
        "\n",
        "Having this information, we still don't know which pair corresponds with `santa` versus `not_santa`. Luckily, this was stored using `keras.preprocessing_image`, and you can get more info using the command `train_generator.class_indices`."
      ]
    },
    {
      "cell_type": "code",
      "execution_count": null,
      "metadata": {
        "id": "nDdlDUDDyvHq"
      },
      "outputs": [],
      "source": [
        "# Run this cell; no need to edit\n",
        "train_generator.class_indices"
      ]
    },
    {
      "cell_type": "markdown",
      "metadata": {
        "id": "4AGmr0DqyvHq"
      },
      "source": [
        "Index 0 (the first column) represents `not_santa`, index 1 represents `santa`. Select one of the two columns and transpose the result such that you get $1$ x $l$ and $1$ x $m$ vectors respectively, and value `1` represents `santa`."
      ]
    },
    {
      "cell_type": "code",
      "execution_count": null,
      "metadata": {
        "id": "M7-K-sDcyvHr"
      },
      "outputs": [],
      "source": [
        "# Your code here\n",
        "train_labels_final = None"
      ]
    },
    {
      "cell_type": "code",
      "execution_count": null,
      "metadata": {
        "id": "L_79EgJ_yvHr"
      },
      "outputs": [],
      "source": [
        "# Run this cell; no need to edit\n",
        "np.shape(train_labels_final)"
      ]
    },
    {
      "cell_type": "code",
      "execution_count": null,
      "metadata": {
        "id": "MOCNySMKyvHs"
      },
      "outputs": [],
      "source": [
        "# Your code here\n",
        "test_labels_final = None"
      ]
    },
    {
      "cell_type": "code",
      "execution_count": null,
      "metadata": {
        "id": "OZwFkOuCyvHs"
      },
      "outputs": [],
      "source": [
        "# Run this cell; no need to edit\n",
        "np.shape(test_labels_final)"
      ]
    },
    {
      "cell_type": "markdown",
      "metadata": {
        "id": "47hdbVF9yvHs"
      },
      "source": [
        "As a final sanity check, look at an image and the corresponding label, so we're sure that santa is indeed stored as 1.\n",
        "\n",
        "- First, use `array_to_image()` again on the original `train_images` with index 240 to look at this particular image\n",
        "- Use `train_labels_final` to get the 240th label"
      ]
    },
    {
      "cell_type": "code",
      "execution_count": null,
      "metadata": {
        "id": "ckJ3vy91yvHs"
      },
      "outputs": [],
      "source": [
        "# Preview train image at index 240"
      ]
    },
    {
      "cell_type": "code",
      "execution_count": null,
      "metadata": {
        "id": "UAktlLS-yvHs"
      },
      "outputs": [],
      "source": [
        "# Preview train label at index 240"
      ]
    },
    {
      "cell_type": "markdown",
      "metadata": {
        "id": "uPi-yIaGyvHt"
      },
      "source": [
        "This seems to be correct! Feel free to try out other indices as well."
      ]
    },
    {
      "cell_type": "markdown",
      "metadata": {
        "id": "iMPX5c4pyvHt"
      },
      "source": [
        "## Standardize the data"
      ]
    },
    {
      "cell_type": "markdown",
      "metadata": {
        "id": "2TfXUCEJyvHt"
      },
      "source": [
        "Remember that each RGB pixel in an image takes a value between 0 and 255. In Deep Learning, it is very common to standardize and/or center your dataset. For images, a common thing that is done is to make sure each pixel value is between 0 and 1. This can be done by dividing the entire matrix by 255. Do this here for the `train_img_unrow` and `test_img_unrow`."
      ]
    },
    {
      "cell_type": "code",
      "execution_count": null,
      "metadata": {
        "id": "Iu5PasuIyvHu"
      },
      "outputs": [],
      "source": [
        "# Your code here\n",
        "train_img_final = None\n",
        "test_img_final = None\n",
        "\n",
        "type(test_img_unrow)"
      ]
    },
    {
      "cell_type": "markdown",
      "metadata": {
        "id": "QPEHgE-syvHu"
      },
      "source": [
        "## Build a logistic regression-based neural network"
      ]
    },
    {
      "cell_type": "markdown",
      "metadata": {
        "id": "ETmbL1-HyvHu"
      },
      "source": [
        "## Math recap"
      ]
    },
    {
      "cell_type": "markdown",
      "metadata": {
        "id": "4GBslEJhyvHv"
      },
      "source": [
        "Now we can go ahead and build our own basic logistic regression-based neural network to distinguish images with Santa from images without Santa. You saw in the lesson that logistic regression can actually be represented as a very simple neural network.\n",
        "\n",
        "Remember that we defined that, for each $x^{(i)}$:\n",
        "\n",
        "\n",
        "$$ \\mathcal{L}(\\hat y ^{(i)}, y^{(i)}) =  - \\big( y^{(i)} \\log(\\hat y^{(i)}) + (1-y^{(i)} )  \\log(1-\\hat y^{(i)})\\big)$$\n",
        "\n",
        "$$\\hat{y}^{(i)} = \\sigma(z^{(i)}) = \\frac{1}{1 + e^{-(z^{(i)})}}$$\n",
        "\n",
        "$$z^{(i)} = w^T x^{(i)} + b$$\n",
        "\n",
        "The cost function is then given by:\n",
        "$$J(w,b) = \\dfrac{1}{l}\\displaystyle\\sum^l_{i=1}\\mathcal{L}(\\hat y^{(i)}, y^{(i)})$$"
      ]
    },
    {
      "cell_type": "markdown",
      "metadata": {
        "id": "_P10zkA7yvHw"
      },
      "source": [
        "In the remainder of this lab, you'll do the following:\n",
        "\n",
        "   - Initialize the parameters of the model\n",
        "   - Perform forward propagation, and calculate the current loss\n",
        "   - Perform backward propagation (which is basically calculating the current gradient)\n",
        "   - Update the parameters (gradient descent)"
      ]
    },
    {
      "cell_type": "markdown",
      "metadata": {
        "id": "vkvaVENwyvHw"
      },
      "source": [
        "## Parameter initialization"
      ]
    },
    {
      "cell_type": "markdown",
      "metadata": {
        "id": "B4zMXg4yyvHw"
      },
      "source": [
        "$w$ and $b$ are the unknown parameters to start with:\n",
        "- remember that $b$ is a scalar\n",
        "- $w$ however, is a vector of shape $n$ x $1$, with $n$ being `horizontal_pixel x vertical_pixel x 3`"
      ]
    },
    {
      "cell_type": "markdown",
      "metadata": {
        "id": "kFp693F_yvHx"
      },
      "source": [
        "## Initialize $b$"
      ]
    },
    {
      "cell_type": "markdown",
      "metadata": {
        "id": "w3crbkOuyvHx"
      },
      "source": [
        " Initialize $b$ as a scalar with value 0."
      ]
    },
    {
      "cell_type": "code",
      "execution_count": null,
      "metadata": {
        "id": "xfIfARhDyvHy"
      },
      "outputs": [],
      "source": [
        "# Your code here"
      ]
    },
    {
      "cell_type": "markdown",
      "metadata": {
        "id": "ecgRpvOMyvHy"
      },
      "source": [
        "## Initialize $w$"
      ]
    },
    {
      "cell_type": "markdown",
      "metadata": {
        "id": "z7NmppiKyvHz"
      },
      "source": [
        "Define a function `init_w()`, with a parameter `n`. The function should return an array with zeros that has a shape $n$ x $1$."
      ]
    },
    {
      "cell_type": "code",
      "execution_count": null,
      "metadata": {
        "id": "6I9NWRVUyvHz"
      },
      "outputs": [],
      "source": [
        "# Define your function"
      ]
    },
    {
      "cell_type": "code",
      "execution_count": null,
      "metadata": {
        "id": "6Qfctbh2yvHz"
      },
      "outputs": [],
      "source": [
        "# Call your function using appropriate parameters"
      ]
    },
    {
      "cell_type": "markdown",
      "metadata": {
        "id": "HGoyv2KiyvHz"
      },
      "source": [
        "## Forward propagation"
      ]
    },
    {
      "cell_type": "markdown",
      "metadata": {
        "id": "vGNTuy4RyvHz"
      },
      "source": [
        "In forward propagation, you:\n",
        "- get `x`\n",
        "- compute `y_hat`:\n",
        "\n",
        "$$ (\\hat y^{(1)}, \\hat y^{(2)}, \\ldots , \\hat y^{(l)})= \\sigma(w^T x + b) = \\Biggr(\\dfrac{1}{1+exp(w^T x^{(1)}+ b)},\\ldots, \\dfrac{1}{1+exp(w^T x^{(l)}+ b)}\\Biggr) $$\n",
        "- You calculate the `cost` function: $J(w,b) = -\\dfrac{1}{l}\\displaystyle\\sum_{i=1}^{l}y^{(i)}\\log(\\hat y^{(i)})+(1-y^{(i)})\\log(1-\\hat y^{(i)})$\n",
        "\n",
        "Here are the two formulas you will be using to compute the gradients. Don't be scared by the mathematics. The long formulas are just to show that this corresponds with what we derived in the lesson!\n",
        "\n",
        "$$ \\frac{dJ(w,b)}{dw} = \\displaystyle\\frac{1}{l}\\displaystyle\\sum^l_{i=1} \\frac{d\\mathcal{L}(\\hat y^{(i)}, y^{(i)})}{dw}= \\displaystyle\\frac{1}{l}\\displaystyle\\sum^l_{i=1} x^{(i)} dz^{(i)}  = \\displaystyle\\frac{1}{l}\\displaystyle\\sum^l_{i=1} x^{(i)}(\\hat y^{(i)}-y^{(i)})  = \\frac{1}{l}x(\\hat y-y)^T$$\n",
        "\n",
        "$$ \\frac{dJ(w,b)}{db} = \\displaystyle\\frac{1}{l}\\displaystyle\\sum^l_{i=1} \\frac{d\\mathcal{L}(\\hat y^{(i)}, y^{(i)})}{db}= \\displaystyle\\frac{1}{l}\\displaystyle\\sum^l_{i=1} dz^{(i)}  = \\displaystyle\\frac{1}{l}\\displaystyle\\sum^l_{i=1} (\\hat y^{(i)}-y^{(i)})$$"
      ]
    },
    {
      "cell_type": "code",
      "execution_count": null,
      "metadata": {
        "id": "1lX60j3GyvH0"
      },
      "outputs": [],
      "source": [
        "# Define the propagation function"
      ]
    },
    {
      "cell_type": "code",
      "execution_count": null,
      "metadata": {
        "id": "ee8yPiYxyvH0"
      },
      "outputs": [],
      "source": [
        "# Use the propogation function\n",
        "dw, db, cost = None"
      ]
    },
    {
      "cell_type": "code",
      "execution_count": null,
      "metadata": {
        "id": "8pjF868JyvH0"
      },
      "outputs": [],
      "source": [
        "print(dw)\n",
        "\n",
        "print(db)\n",
        "\n",
        "print(cost)"
      ]
    },
    {
      "cell_type": "markdown",
      "metadata": {
        "id": "5xWEYmUUyvH0"
      },
      "source": [
        "## Optimization"
      ]
    },
    {
      "cell_type": "markdown",
      "metadata": {
        "id": "brOEbXWsyvH0"
      },
      "source": [
        "Next, in the optimization step, we have to update $w$ and $b$ as follows:\n",
        "\n",
        "$$w := w - \\alpha * dw$$\n",
        "$$b := b - \\alpha * db$$\n",
        "\n",
        "Note that this `optimization()` function uses the `propagation()` function. It loops over the `propagation()` function in each iteration, and updates both $w$ and $b$ right after that!"
      ]
    },
    {
      "cell_type": "code",
      "execution_count": null,
      "metadata": {
        "id": "4nCLE-RnyvH0"
      },
      "outputs": [],
      "source": [
        "# Complete the function below using your propagation function to define dw, db and cost\n",
        "# Then use the formula above to update w and b in the optimization function\n",
        "def optimization(w, b, x, y, num_iterations, learning_rate, print_cost = False):\n",
        "\n",
        "    costs = []\n",
        "\n",
        "    for i in range(num_iterations):\n",
        "        dw, db, cost = None\n",
        "        w = None\n",
        "        b = None\n",
        "\n",
        "        # Record the costs and print them every 50 iterations\n",
        "        if i % 50 == 0:\n",
        "            costs.append(cost)\n",
        "        if print_cost and i % 50 == 0:\n",
        "            print (\"Cost after iteration %i: %f\" %(i, cost))\n",
        "\n",
        "    return w, b, costs"
      ]
    },
    {
      "cell_type": "code",
      "execution_count": null,
      "metadata": {
        "id": "ZSjiluoQyvH1"
      },
      "outputs": [],
      "source": [
        "# Run this block of code as is\n",
        "w, b, costs = optimization(w, b, train_img_final, train_labels_final,\n",
        "                           num_iterations= 151, learning_rate = 0.0001, print_cost = True)"
      ]
    },
    {
      "cell_type": "markdown",
      "metadata": {
        "id": "KvzGqoFAyvH1"
      },
      "source": [
        "## Make label predictions: Santa or not?"
      ]
    },
    {
      "cell_type": "markdown",
      "metadata": {
        "id": "6qlHVBDOyvH1"
      },
      "source": [
        "Next, let's create a function that makes label predictions. We'll later use this when we will look at our Santa pictures. What we want is a label that is equal to 1 when the predicted $y$ is bigger than 0.5, and 0 otherwise."
      ]
    },
    {
      "cell_type": "code",
      "execution_count": null,
      "metadata": {
        "id": "XagXa3Y6yvH1"
      },
      "outputs": [],
      "source": [
        "def prediction(w, b, x):\n",
        "    l = x.shape[1]\n",
        "    y_prediction = None\n",
        "    w = w.reshape(x.shape[0], 1)\n",
        "    y_hat = None\n",
        "    p = y_hat\n",
        "\n",
        "    for i in range(y_hat.shape[1]):\n",
        "        # Transform the probability into a binary classification using 0.5 as the cutoff\n",
        "    return y_prediction"
      ]
    },
    {
      "cell_type": "markdown",
      "metadata": {
        "id": "yqV2hU7WyvH1"
      },
      "source": [
        "Let's try this out on a small example. Make sure you have 4 predictions in your output here!"
      ]
    },
    {
      "cell_type": "code",
      "execution_count": null,
      "metadata": {
        "id": "kxEU93yUyvH2"
      },
      "outputs": [],
      "source": [
        "# Run this block of code as is\n",
        "w = np.array([[0.035], [0.123], [0.217]])\n",
        "b = 0.2\n",
        "x = np.array([[0.2, 0.4, -1.2, -2],\n",
        "              [1, -2., 0.1, -1],\n",
        "              [0.2, 0.4, -1.2, -2]])\n",
        "\n",
        "prediction(w, b, x)"
      ]
    },
    {
      "cell_type": "markdown",
      "metadata": {
        "id": "1NRgspiVyvH2"
      },
      "source": [
        "## The overall model"
      ]
    },
    {
      "cell_type": "markdown",
      "metadata": {
        "id": "iL0w8opyyvH2"
      },
      "source": [
        "Now, let's build the overall model!"
      ]
    },
    {
      "cell_type": "code",
      "execution_count": null,
      "metadata": {
        "id": "_GMmb1buyvH2"
      },
      "outputs": [],
      "source": [
        "# Review this code carefully\n",
        "def model(x_train, y_train, x_test, y_test, num_iterations = 2000, learning_rate = 0.5, print_cost = False):\n",
        "\n",
        "    b = 0\n",
        "    w = init_w(np.shape(x_train)[0])\n",
        "\n",
        "    # Gradient descent (≈ 1 line of code)\n",
        "    w, b, costs = optimization(w, b, x_train, y_train, num_iterations, learning_rate, print_cost)\n",
        "\n",
        "    y_pred_test = prediction(w, b, x_test)\n",
        "    y_pred_train = prediction(w, b, x_train)\n",
        "\n",
        "    # Print train/test errors\n",
        "    print('train accuracy: {} %'.format(100 - np.mean(np.abs(y_pred_train - y_train)) * 100))\n",
        "    print('test accuracy: {} %'.format(100 - np.mean(np.abs(y_pred_test - y_test)) * 100))\n",
        "\n",
        "    output = {'costs': costs,\n",
        "              'y_pred_test': y_pred_test,\n",
        "              'y_pred_train' : y_pred_train,\n",
        "              'w' : w,\n",
        "              'b' : b,\n",
        "              'learning_rate' : learning_rate,\n",
        "              'num_iterations': num_iterations}\n",
        "\n",
        "    return output"
      ]
    },
    {
      "cell_type": "code",
      "execution_count": null,
      "metadata": {
        "id": "2Tl_OdnOyvH3"
      },
      "outputs": [],
      "source": [
        "# Run the model!\n",
        "# ⏰ Expect your code to take several minutes to run\n",
        "output = model(train_img_final, train_labels_final, test_img_final, test_labels_final,\n",
        "               num_iterations=2000, learning_rate=0.005, print_cost=True)"
      ]
    },
    {
      "cell_type": "markdown",
      "metadata": {
        "id": "jo4g54i9yvH3"
      },
      "source": [
        "## Summary\n",
        "\n",
        "Well done! In this lab you built your first neural network in order to identify images of Santa! In the upcoming labs you'll see how to extend your neural networks to include a larger number of layers and how to then successively prune these complex schemas to improve test and train accuracies."
      ]
    }
  ],
  "metadata": {
    "kernelspec": {
      "display_name": "Python (learn-env)",
      "language": "python",
      "name": "learn-env"
    },
    "language_info": {
      "codemirror_mode": {
        "name": "ipython",
        "version": 3
      },
      "file_extension": ".py",
      "mimetype": "text/x-python",
      "name": "python",
      "nbconvert_exporter": "python",
      "pygments_lexer": "ipython3",
      "version": "3.9.15"
    },
    "toc": {
      "base_numbering": 1,
      "nav_menu": {},
      "number_sections": true,
      "sideBar": true,
      "skip_h1_title": false,
      "title_cell": "Table of Contents",
      "title_sidebar": "Contents",
      "toc_cell": false,
      "toc_position": {},
      "toc_section_display": true,
      "toc_window_display": false
    },
    "colab": {
      "provenance": []
    }
  },
  "nbformat": 4,
  "nbformat_minor": 0
}